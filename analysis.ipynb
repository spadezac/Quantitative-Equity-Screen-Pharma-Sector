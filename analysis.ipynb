{
 "cells": [
  {
   "cell_type": "code",
   "execution_count": 5,
   "id": "50cd7f05",
   "metadata": {},
   "outputs": [
    {
     "name": "stdout",
     "output_type": "stream",
     "text": [
      "Collecting pandas\n",
      "  Downloading pandas-2.3.1-cp310-cp310-win_amd64.whl (11.3 MB)\n",
      "     ---------------------------------------- 11.3/11.3 MB 5.5 MB/s eta 0:00:00\n",
      "Requirement already satisfied: pytz>=2020.1 in c:\\users\\cryst\\appdata\\local\\programs\\python\\python310\\lib\\site-packages (from pandas) (2022.6)\n",
      "Requirement already satisfied: python-dateutil>=2.8.2 in c:\\users\\cryst\\appdata\\local\\programs\\python\\python310\\lib\\site-packages (from pandas) (2.8.2)\n",
      "Requirement already satisfied: numpy>=1.22.4 in c:\\users\\cryst\\appdata\\local\\programs\\python\\python310\\lib\\site-packages (from pandas) (1.24.1)\n",
      "Collecting tzdata>=2022.7\n",
      "  Downloading tzdata-2025.2-py2.py3-none-any.whl (347 kB)\n",
      "     -------------------------------------- 347.8/347.8 kB 2.0 MB/s eta 0:00:00\n",
      "Requirement already satisfied: six>=1.5 in c:\\users\\cryst\\appdata\\local\\programs\\python\\python310\\lib\\site-packages (from python-dateutil>=2.8.2->pandas) (1.16.0)\n",
      "Installing collected packages: tzdata, pandas\n",
      "Successfully installed pandas-2.3.1 tzdata-2025.2\n",
      "Note: you may need to restart the kernel to use updated packages.\n"
     ]
    },
    {
     "name": "stderr",
     "output_type": "stream",
     "text": [
      "\n",
      "[notice] A new release of pip available: 22.2.2 -> 25.1.1\n",
      "[notice] To update, run: python.exe -m pip install --upgrade pip\n"
     ]
    }
   ],
   "source": [
    "%pip install pandas\n",
    "# Import the pandas library for data manipulation\n",
    "import pandas as pd\n",
    "import numpy as np"
   ]
  },
  {
   "cell_type": "code",
   "execution_count": 6,
   "id": "7b6dca33",
   "metadata": {},
   "outputs": [
    {
     "name": "stdout",
     "output_type": "stream",
     "text": [
      "✅ New data file with 200+ companies loaded successfully.\n"
     ]
    }
   ],
   "source": [
    "# --- Step 1: Read the New, Larger Data File ---\n",
    "# Load the dataset from the newly uploaded CSV file with 200+ companies.\n",
    "try:\n",
    "    df = pd.read_csv('pharma_data.csv')\n",
    "    print(\"✅ New data file with 200+ companies loaded successfully.\")\n",
    "except FileNotFoundError:\n",
    "    print(\"❌ Error: pharma_data.csv not found. Please ensure the file is uploaded correctly.\")\n",
    "    exit()\n"
   ]
  },
  {
   "cell_type": "code",
   "execution_count": 7,
   "id": "247cfdd7",
   "metadata": {},
   "outputs": [
    {
     "name": "stdout",
     "output_type": "stream",
     "text": [
      "\n",
      "⚙️  Preparing data for analysis...\n",
      "Data cleaned. 50 rows with missing data were removed.\n"
     ]
    }
   ],
   "source": [
    "# --- Step 2: Prepare the Data for Analysis ---\n",
    "print(\"\\n⚙️  Preparing data for analysis...\")\n",
    "\n",
    "# We will use the same column names that worked successfully on your last file.\n",
    "required_columns = [\n",
    "    'Name',\n",
    "    'Market Capitalization',\n",
    "    'Price to Earning',\n",
    "    'Debt to equity',\n",
    "    'Sales growth 3Years',\n",
    "    'Return on capital employed'\n",
    "]\n",
    "\n",
    "# Check if all required columns exist in the dataframe\n",
    "missing_cols = set(required_columns) - set(df.columns)\n",
    "if missing_cols:\n",
    "    print(f\"❌ Error: The following required columns are missing from this new file: {missing_cols}\")\n",
    "    print(\"The file format seems to have changed again. Please check your CSV file.\")\n",
    "    exit()\n",
    "\n",
    "# Select only the columns we need\n",
    "df_selected = df[required_columns].copy()\n",
    "\n",
    "# Clean and convert columns to numeric types.\n",
    "columns_to_convert = [\n",
    "    'Market Capitalization',\n",
    "    'Price to Earning',\n",
    "    'Debt to equity',\n",
    "    'Sales growth 3Years',\n",
    "    'Return on capital employed'\n",
    "]\n",
    "for col in columns_to_convert:\n",
    "    df_selected[col] = pd.to_numeric(df_selected[col], errors='coerce')\n",
    "\n",
    "# Remove any rows that have missing values after conversion\n",
    "original_rows = len(df_selected)\n",
    "df_selected.dropna(inplace=True)\n",
    "cleaned_rows = len(df_selected)\n",
    "print(f\"Data cleaned. {original_rows - cleaned_rows} rows with missing data were removed.\")\n",
    "\n"
   ]
  },
  {
   "cell_type": "code",
   "execution_count": 8,
   "id": "dbfabafe",
   "metadata": {},
   "outputs": [
    {
     "name": "stdout",
     "output_type": "stream",
     "text": [
      "\n",
      "🔬 Applying the same screening filters to the new dataset...\n"
     ]
    }
   ],
   "source": [
    "# --- Step 3: Apply the Screening Criteria ---\n",
    "print(\"\\n🔬 Applying the same screening filters to the new dataset...\")\n",
    "\n",
    "# Define the criteria for our high-quality company screen\n",
    "MIN_MARKET_CAP = 20000\n",
    "MIN_SALES_GROWTH = 15\n",
    "MAX_DEBT_TO_EQUITY = 0.5\n",
    "MIN_ROCE = 15\n",
    "MAX_PE_RATIO = 50\n",
    "\n",
    "# Apply the filters to find companies that meet all criteria\n",
    "screened_df = df_selected[\n",
    "    (df_selected['Market Capitalization'] > MIN_MARKET_CAP) &\n",
    "    (df_selected['Sales growth 3Years'] > MIN_SALES_GROWTH) &\n",
    "    (df_selected['Debt to equity'] < MAX_DEBT_TO_EQUITY) &\n",
    "    (df_selected['Return on capital employed'] > MIN_ROCE) &\n",
    "    (df_selected['Price to Earning'] < MAX_PE_RATIO)\n",
    "]\n",
    "\n"
   ]
  },
  {
   "cell_type": "code",
   "execution_count": 9,
   "id": "33bc10c1",
   "metadata": {},
   "outputs": [
    {
     "name": "stdout",
     "output_type": "stream",
     "text": [
      "\n",
      "\n",
      "--- ✅ ANALYSIS COMPLETE: Here is the final shortlist from the 200+ company file ---\n",
      "              Name  Market Capitalization  Price to Earning  Debt to equity  \\\n",
      "0   Zydus Lifesci.              100192.08             21.58            0.13   \n",
      "1  J B Chemicals &               28188.60             44.08            0.01   \n",
      "\n",
      "   Sales growth 3Years  Return on capital employed  \n",
      "0                15.43                       24.31  \n",
      "1                17.35                       25.79  \n"
     ]
    }
   ],
   "source": [
    "# --- Step 4: Display the Final Results ---\n",
    "print(\"\\n\\n--- ✅ ANALYSIS COMPLETE: Here is the final shortlist from the 200+ company file ---\")\n",
    "\n",
    "if screened_df.empty:\n",
    "    print(\"\\nNo companies in this larger dataset passed all the screening criteria. You might want to try adjusting the filters in the code.\")\n",
    "else:\n",
    "    # Sort the results by Market Capitalization for a clean presentation and reset the index\n",
    "    final_results = screened_df.sort_values(by='Market Capitalization', ascending=False).reset_index(drop=True)\n",
    "    print(final_results)"
   ]
  }
 ],
 "metadata": {
  "kernelspec": {
   "display_name": "Python 3",
   "language": "python",
   "name": "python3"
  },
  "language_info": {
   "codemirror_mode": {
    "name": "ipython",
    "version": 3
   },
   "file_extension": ".py",
   "mimetype": "text/x-python",
   "name": "python",
   "nbconvert_exporter": "python",
   "pygments_lexer": "ipython3",
   "version": "3.10.7"
  }
 },
 "nbformat": 4,
 "nbformat_minor": 5
}
